{
 "cells": [
  {
   "cell_type": "code",
   "execution_count": 2,
   "metadata": {
    "collapsed": true
   },
   "outputs": [],
   "source": [
    "import pandas as pd\n",
    "import leafmap\n",
    "import geopandas as gpd\n",
    "import geopy\n",
    "\n",
    "from geopy.geocoders import Nominatim\n",
    "from geopy.extra.rate_limiter import RateLimiter\n",
    "\n",
    "\n",
    "\n",
    "fp_data = 'pollution_us_2000_2016.csv'\n",
    "\n",
    "data_us_pollution = pd.read_csv(fp_data, sep=',')\n",
    "test_data = data_us_pollution.sample(10)\n",
    "\n",
    "# test_data['full_address'] = test_data['Address'] + ', ' + \\\n",
    "#                             test_data['City'] + ', ' + \\\n",
    "#                             test_data['State']\n",
    "#\n",
    "#\n",
    "# geolocator = Nominatim(timeout=10, user_agent = \"myGeolocator\")\n",
    "# test_data['gcode'] = test_data.full_address.apply(geolocator.geocode)\n",
    "# test_data = test_data[test_data.gcode.notnull()]\n",
    "# test_data['lat'] = [g.latitude for g in test_data.gcode]\n",
    "# test_data['long'] = [g.longitude for g in test_data.gcode]\n",
    "\n",
    "data_us_pollution['full_address'] = data_us_pollution['Address'] + ', ' + \\\n",
    "                            data_us_pollution['City'] + ', ' + \\\n",
    "                            data_us_pollution['State']\n",
    "\n",
    "data_us_pollution = data_us_pollution.sample(100)\n",
    "geolocator = Nominatim(timeout=10, user_agent = \"myGeolocator\")\n",
    "data_us_pollution['gcode'] = data_us_pollution.full_address.apply(geolocator.geocode)\n",
    "data_us_pollution = data_us_pollution[data_us_pollution.gcode.notnull()]\n",
    "data_us_pollution['lat'] = [g.latitude for g in data_us_pollution.gcode]\n",
    "data_us_pollution['long'] = [g.longitude for g in data_us_pollution.gcode]\n",
    "\n",
    "data_us_pollution.head()\n",
    "\n",
    "data_us_pollution.to_csv('100_sample_uspoll.csv')\n",
    "\n",
    "\n",
    "# stafford_poll = data_us_pollution.loc[data_us_pollution['City'] == 'Houston']\n",
    "# stafford_poll.plot.line(x='Date Local', y='CO Mean')"
   ]
  }
 ],
 "metadata": {
  "kernelspec": {
   "display_name": "Python 3",
   "language": "python",
   "name": "python3"
  },
  "language_info": {
   "codemirror_mode": {
    "name": "ipython",
    "version": 2
   },
   "file_extension": ".py",
   "mimetype": "text/x-python",
   "name": "python",
   "nbconvert_exporter": "python",
   "pygments_lexer": "ipython2",
   "version": "2.7.6"
  }
 },
 "nbformat": 4,
 "nbformat_minor": 0
}